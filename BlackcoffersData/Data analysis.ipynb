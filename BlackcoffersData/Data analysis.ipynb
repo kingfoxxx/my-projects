{
 "cells": [
  {
   "cell_type": "code",
   "execution_count": null,
   "id": "f8fca2c0",
   "metadata": {},
   "outputs": [
    {
     "name": "stdout",
     "output_type": "stream",
     "text": [
      "showing info https://raw.githubusercontent.com/nltk/nltk_data/gh-pages/index.xml\n"
     ]
    }
   ],
   "source": [
    "import nltk\n",
    "nltk.download()"
   ]
  },
  {
   "cell_type": "code",
   "execution_count": null,
   "id": "e3cf2ad4",
   "metadata": {},
   "outputs": [],
   "source": [
    "import nltk\n",
    "\n",
    "# Specify the path to your NLTK data folder\n",
    "nltk.data.path.append('/C:\\Users\\User\\Downloads\\StopWords\\')\n"
   ]
  },
  {
   "cell_type": "code",
   "execution_count": null,
   "id": "dffede79",
   "metadata": {},
   "outputs": [],
   "source": [
    "from nltk.corpus import stopwords\n",
    "\n",
    "# Load stopwords from the custom folder\n",
    "custom_stopwords = stopwords.words('StopWords')"
   ]
  },
  {
   "cell_type": "code",
   "execution_count": null,
   "id": "575ff967",
   "metadata": {},
   "outputs": [],
   "source": [
    "import nltk\n",
    "import pandas as pd\n",
    "from nltk.corpus import stopwords\n",
    "from nltk.tokenize import word_tokenize\n",
    "from nltk.stem import PorterStemmer\n",
    "from textblob import TextBlob\n",
    "nltk.download()\n",
    "# Specifying the path to my NLTK data folder\n",
    "nltk.data.path.append('/C:/Users/User/Downloads/StopWords/')\n",
    "\n",
    "extracted_data_path = r'C:\\Users\\User\\Downloads\\extracted_data.xlsx'\n",
    "extracted_df = pd.read_excel(extracted_data_path)\n",
    "\n",
    "\n",
    "# Download NLTK data\n",
    "nltk.download('stopwords')\n",
    "nltk.download('punkt')\n",
    "\n",
    "# Loading the extracted data from extracted_data.xlsx\n",
    "extracted_data_path = r'C:\\Users\\User\\Downloads\\extracted_data.xlsx'\n",
    "extracted_df = pd.read_excel(extracted_data_path)\n",
    "\n",
    "\n",
    "def compute_variables(text):\n",
    "    # Tokenize text\n",
    "    tokens = word_tokenize(text)\n",
    "    \n",
    "    # Remove stopwords\n",
    "    stop_words = set(stopwords.words('english'))\n",
    "    filtered_tokens = [word for word in tokens if word.lower() not in stop_words]\n",
    "    \n",
    "    # Compute variables\n",
    "    word_count = len(tokens)\n",
    "    filtered_word_count = len(filtered_tokens)\n",
    "    avg_sentence_length = word_count / text.count('.') \n",
    "    percentage_complex_words = (filtered_word_count / word_count) * 100\n",
    "    \n",
    "    blob = TextBlob(text)\n",
    "    polarity_score = blob.sentiment.polarity\n",
    "    subjectivity_score = blob.sentiment.subjectivity\n",
    "    \n",
    "    return {\n",
    "        'Word_Count': word_count,\n",
    "        'Filtered_Word_Count': filtered_word_count,\n",
    "        'Avg_Sentence_Length': avg_sentence_length,\n",
    "        'Percentage_Complex_Words': percentage_complex_words,\n",
    "        'Polarity_Score': polarity_score,\n",
    "        'Subjectivity_Score': subjectivity_score\n",
    "    }\n",
    "\n",
    "# Compute variables for each article text\n",
    "variable_data = []\n",
    "for index, row in extracted_df.iterrows():\n",
    "    article_text = row['Article_Text']\n",
    "    variables = compute_variables(article_text)\n",
    "    variable_data.append(variables)\n",
    "\n",
    "# Convert variable data to DataFrame\n",
    "variable_df = pd.DataFrame(variable_data)\n",
    "\n",
    "output_df = pd.concat([extracted_df, variable_df], axis=1)\n",
    "\n",
    "output_file_path = r'C:\\Users\\User\\Downloads\\output_data_structure.xlsx'\n",
    "output_df.to_excel(output_file_path, index=False)\n"
   ]
  },
  {
   "cell_type": "code",
   "execution_count": null,
   "id": "506f2f8b",
   "metadata": {},
   "outputs": [],
   "source": []
  }
 ],
 "metadata": {
  "kernelspec": {
   "display_name": "Python 3 (ipykernel)",
   "language": "python",
   "name": "python3"
  },
  "language_info": {
   "codemirror_mode": {
    "name": "ipython",
    "version": 3
   },
   "file_extension": ".py",
   "mimetype": "text/x-python",
   "name": "python",
   "nbconvert_exporter": "python",
   "pygments_lexer": "ipython3",
   "version": "3.9.7"
  }
 },
 "nbformat": 4,
 "nbformat_minor": 5
}
